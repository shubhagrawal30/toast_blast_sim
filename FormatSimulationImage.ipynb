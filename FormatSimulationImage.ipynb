{
 "cells": [
  {
   "cell_type": "code",
   "execution_count": 1,
   "id": "fc966075",
   "metadata": {},
   "outputs": [],
   "source": [
    "from astropy.io import fits\n",
    "from astropy.wcs import WCS\n",
    "from astropy import units as u, constants as c\n",
    "import numpy as np\n",
    "import matplotlib.pyplot as plt"
   ]
  },
  {
   "cell_type": "code",
   "execution_count": 2,
   "id": "86bcc723",
   "metadata": {},
   "outputs": [
    {
     "name": "stdout",
     "output_type": "stream",
     "text": [
      " Volume in drive C has no label.\n",
      " Volume Serial Number is B679-3090\n",
      "\n",
      " Directory of C:\\Users\\jaguirre\\OneDriveDocuments\\GitHub\\toast_blast_sim\n",
      "\n",
      "12/12/2022  02:39 PM        50,342,400 stokes_850_C=100_n=10_highRes.fits\n",
      "               1 File(s)     50,342,400 bytes\n",
      "               0 Dir(s)  198,747,058,176 bytes free\n"
     ]
    }
   ],
   "source": [
    "ls *.fits"
   ]
  },
  {
   "cell_type": "code",
   "execution_count": 3,
   "id": "a97a7b34",
   "metadata": {},
   "outputs": [],
   "source": [
    "hdu = fits.open('stokes_850_C=100_n=10_highRes.fits')"
   ]
  },
  {
   "cell_type": "code",
   "execution_count": 4,
   "id": "cb9ae5ad",
   "metadata": {},
   "outputs": [
    {
     "data": {
      "text/plain": [
       "SIMPLE  =                    T / file does conform to FITS standard             \n",
       "BITPIX  =                  -64 / number of bits per data pixel                  \n",
       "NAXIS   =                    4 / number of data axes                            \n",
       "NAXIS1  =                 1024 / length of data axis 1                          \n",
       "NAXIS2  =                 1024 / length of data axis 2                          \n",
       "NAXIS3  =                    1 / length of data axis 3                          \n",
       "NAXIS4  =                    6 / length of data axis 4                          \n",
       "EXTEND  =                    T / FITS dataset may contain extensions            \n",
       "COMMENT   FITS (Flexible Image Transport System) format is defined in 'Astronomy\n",
       "COMMENT   and Astrophysics', volume 376, page 359; bibcode: 2001A&A...376..359H \n",
       "CTYPE1  = 'PARAM   '           / type of unit 1                                 \n",
       "CRVAL1  = -7.7174560546875E+18 / value of axis 1                                \n",
       "CRPIX1  =                    1 / pixel where CRVAL1 is defined                  \n",
       "CDELT1  =     1.5087890625E+16 / delta of axis 1                                \n",
       "CUNIT1  = 'm       '           / unit of axis 1                                 \n",
       "CTYPE1A = 'RA---TAN'           / type of unit 1                                 \n",
       "CRVAL1A =    -4.77616829237214 / value of axis 1                                \n",
       "CRPIX1A =                 1024 / pixel where CRVAL1A is defined                 \n",
       "CDELT1A = -0.00933757241910487 / delta of axis 1                                \n",
       "CUNIT1A = 'degree  '           / unit of axis 1                                 \n",
       "CTYPE1B = 'PARAM   '           / type of unit 1                                 \n",
       "CRVAL1B =    -51588007.3598367 / value of axis 1                                \n",
       "CRPIX1B =                    1 / pixel where CRVAL1 is defined                  \n",
       "CDELT1B =      100856.31937407 / delta of axis 1                                \n",
       "CUNIT1B = 'AU      '           / unit of axis 1                                 \n",
       "CTYPE1C = 'PARAM   '           / type of unit 1                                 \n",
       "CRVAL1C =    -250.105717494242 / value of axis 1                                \n",
       "CRPIX1C =                    1 / pixel where CRVAL1 is defined                  \n",
       "CDELT1C =    0.488965234592849 / delta of axis 1                                \n",
       "CUNIT1C = 'pc      '           / unit of axis 1                                 \n",
       "CTYPE2  = 'PARAM   '           / type of unit 2                                 \n",
       "CRVAL2  = -7.7174560546875E+18 / value of axis 2                                \n",
       "CRPIX2  =                    1 / pixel where CRVAL2 is defined                  \n",
       "CDELT2  =     1.5087890625E+16 / delta of axis 2                                \n",
       "CUNIT2  = 'm       '           / unit of axis 2                                 \n",
       "CTYPE2A = 'DEC--TAN'           / type of unit 2                                 \n",
       "CRVAL2A =    -4.77616829237214 / value of axis 2                                \n",
       "CRPIX2A =                    1 / pixel where CRVAL2A is defined                 \n",
       "CDELT2A =  0.00933757241910487 / delta of axis 2                                \n",
       "CUNIT2A = 'degree  '           / unit of axis 2                                 \n",
       "CTYPE2B = 'PARAM   '           / type of unit 2                                 \n",
       "CRVAL2B =    -51588007.3598367 / value of axis 2                                \n",
       "CRPIX2B =                    1 / pixel where CRVAL2 is defined                  \n",
       "CDELT2B =      100856.31937407 / delta of axis 2                                \n",
       "CUNIT2B = 'AU      '           / unit of axis 2                                 \n",
       "CTYPE2C = 'PARAM   '           / type of unit 2                                 \n",
       "CRVAL2C =    -250.105717494242 / value of axis 2                                \n",
       "CRPIX2C =                    1 / pixel where CRVAL2 is defined                  \n",
       "CDELT2C =    0.488965234592849 / delta of axis 2                                \n",
       "CUNIT2C = 'pc      '           / unit of axis 2                                 \n",
       "CTYPE3  = 'PARAM   '           / type of unit 3                                 \n",
       "CRVAL3  =                    1 / value of axis 3                                \n",
       "CRPIX3  =                    1 / pixel where CRVAL3 is defined                  \n",
       "CDELT3  =                    1 / delta of axis 3                                \n",
       "CUNIT3  = 'Wavelength index'   / unit of axis 3                                 \n",
       "CTYPE4  = 'PARAM   '           / type of unit 4                                 \n",
       "CRVAL4  =                    1 / value of axis 4                                \n",
       "CRPIX4  =                    1 / pixel where CRVAL4 is defined                  \n",
       "CDELT4  =                    1 / delta of axis 4                                \n",
       "CUNIT4  = 'I, Q, U, V [Jy/px], optical depth, column density [m^-2]' / unit of a\n",
       "ETYPE   = 'thermal emission'   / type of emission                               \n",
       "ID      =                    5 / detector ID                                    \n",
       "HIERARCH WAVELENGTH1 = 0.00085 / value of 1. wavelength                         \n",
       "DISTANCE=            9.258E+19 / distance to object                             \n",
       "RAXIS1X =                   1. / rotation axes 1 (x component)                  \n",
       "RAXIS1Y =                   0. / rotation axes 1 (y component)                  \n",
       "RAXIS1Z =                   0. / rotation axes 1 (z component)                  \n",
       "RANGLE1 =                   0. / rotation angle 1 [deg]                         \n",
       "RAXIS2X =                   0. / rotation axes 2 (x component)                  \n",
       "RAXIS2Y =                   1. / rotation axes 2 (y component)                  \n",
       "RAXIS2Z =                   0. / rotation axes 2 (z component)                  \n",
       "RANGLE2 =                   0. / rotation angle 2 [deg]                         \n",
       "DETGRID = 'Plane / Cartesian background grid' / description of the detector grid\n",
       "HIERARCH ALIGNMENT = 'RAT     ' / alignment method of dust grains               "
      ]
     },
     "execution_count": 4,
     "metadata": {},
     "output_type": "execute_result"
    }
   ],
   "source": [
    "hdu[0].header"
   ]
  },
  {
   "cell_type": "code",
   "execution_count": 5,
   "id": "b738f596",
   "metadata": {},
   "outputs": [],
   "source": [
    "naxis1 = hdu[0].header['NAXIS1']\n",
    "naxis2 = hdu[0].header['NAXIS2']\n",
    "data = hdu[0].data"
   ]
  },
  {
   "cell_type": "code",
   "execution_count": 6,
   "id": "89426186",
   "metadata": {},
   "outputs": [
    {
     "name": "stdout",
     "output_type": "stream",
     "text": [
      "(6, 1, 1024, 1024)\n",
      "1024\n"
     ]
    }
   ],
   "source": [
    "print(data.shape)\n",
    "print(naxis1)"
   ]
  },
  {
   "cell_type": "code",
   "execution_count": 7,
   "id": "cd219dd0",
   "metadata": {},
   "outputs": [
    {
     "data": {
      "text/plain": [
       "<matplotlib.image.AxesImage at 0x2974d1fdb20>"
      ]
     },
     "execution_count": 7,
     "metadata": {},
     "output_type": "execute_result"
    },
    {
     "data": {
      "image/png": "[encoded data removed]",
      "text/plain": [
       "<Figure size 432x288 with 1 Axes>"
      ]
     },
     "metadata": {
      "needs_background": "light"
     },
     "output_type": "display_data"
    }
   ],
   "source": [
    "plt.imshow(data[5,0,:,:])"
   ]
  },
  {
   "cell_type": "code",
   "execution_count": 8,
   "id": "85a365e8",
   "metadata": {},
   "outputs": [],
   "source": [
    "stokes = ['I', 'Q', 'U', 'V']"
   ]
  },
  {
   "cell_type": "code",
   "execution_count": 14,
   "id": "ba9cdc3f",
   "metadata": {},
   "outputs": [
    {
     "name": "stdout",
     "output_type": "stream",
     "text": [
      "14.0625 arcsec\n",
      "0.00390625\n"
     ]
    }
   ],
   "source": [
    "FoV = 4*u.deg\n",
    "dx = (FoV/naxis1).to(u.deg)\n",
    "print(dx.to(u.arcsec))\n",
    "dx = dx.value\n",
    "print(dx)"
   ]
  },
  {
   "cell_type": "code",
   "execution_count": 19,
   "id": "93a4dbfa",
   "metadata": {},
   "outputs": [],
   "source": [
    "# Weirdly, this just does not work\n",
    "#wcs = WCS(naxis=2)\n",
    "#wcs.crpix = [naxis1/2, naxis2/2]\n",
    "#wcs.cdelt = np.array([-dx, dx])\n",
    "#wcs.crval = [180, -9]\n",
    "#wcs.ctype = ['RA---TAN', 'DEC--TAN']\n",
    "#header = wcs.to_header()"
   ]
  },
  {
   "cell_type": "code",
   "execution_count": 39,
   "id": "f6e8dffa",
   "metadata": {},
   "outputs": [],
   "source": [
    "for i, s in enumerate(stokes):\n",
    "\n",
    "    hdu_new = fits.PrimaryHDU(data[i,0,:,:])\n",
    "\n",
    "    hdu_new.header['WCSAXES'] = 2\n",
    "    hdu_new.header['CRPIX1'] = naxis1/2\n",
    "    hdu_new.header['CRPIX2'] = naxis2/2\n",
    "    hdu_new.header['CDELT1'] = -dx\n",
    "    hdu_new.header['CDELT2'] = dx\n",
    "    hdu_new.header['CUNIT1'] = 'deg'\n",
    "    hdu_new.header['CUNIT2'] = 'deg'\n",
    "    hdu_new.header['CTYPE1'] = 'RA---TAN'\n",
    "    hdu_new.header['CTYPE2'] = 'DEC--TAN'\n",
    "    hdu_new.header['CRVAL1'] = 180.\n",
    "    hdu_new.header['CRVAL2'] = -9.\n",
    "    hdu_new.header['LONPOLE'] = 0.0\n",
    "    hdu_new.header['LATPOLE'] = 90.0\n",
    "    hdu_new.header['RADESYS'] = 'ICRS'\n",
    "    \n",
    "    hdu_new.writeto('BLASTObsSim_'+s+'.fits')"
   ]
  },
  {
   "cell_type": "code",
   "execution_count": 40,
   "id": "308c0d6b",
   "metadata": {},
   "outputs": [
    {
     "data": {
      "text/plain": [
       "SIMPLE  =                    T / conforms to FITS standard                      \n",
       "BITPIX  =                  -64 / array data type                                \n",
       "NAXIS   =                    2 / number of array dimensions                     \n",
       "NAXIS1  =                 1024                                                  \n",
       "NAXIS2  =                 1024                                                  \n",
       "EXTEND  =                    T                                                  \n",
       "WCSAXES =                    2                                                  \n",
       "CRPIX1  =                512.0                                                  \n",
       "CRPIX2  =                512.0                                                  \n",
       "CDELT1  =          -0.00390625                                                  \n",
       "CDELT2  =           0.00390625                                                  \n",
       "CUNIT1  = 'deg     '                                                            \n",
       "CUNIT2  = 'deg     '                                                            \n",
       "CTYPE1  = 'RA---TAN'                                                            \n",
       "CTYPE2  = 'DEC--TAN'                                                            \n",
       "CRVAL1  =                180.0                                                  \n",
       "CRVAL2  =                 -9.0                                                  \n",
       "LONPOLE =                  0.0                                                  \n",
       "LATPOLE =                 90.0                                                  \n",
       "RADESYS = 'ICRS    '                                                            "
      ]
     },
     "execution_count": 40,
     "metadata": {},
     "output_type": "execute_result"
    }
   ],
   "source": [
    "hdu_new.header"
   ]
  }
 ],
 "metadata": {
  "kernelspec": {
   "display_name": "Python 3 (ipykernel)",
   "language": "python",
   "name": "python3"
  },
  "language_info": {
   "codemirror_mode": {
    "name": "ipython",
    "version": 3
   },
   "file_extension": ".py",
   "mimetype": "text/x-python",
   "name": "python",
   "nbconvert_exporter": "python",
   "pygments_lexer": "ipython3",
   "version": "3.9.7"
  }
 },
 "nbformat": 4,
 "nbformat_minor": 5
}
