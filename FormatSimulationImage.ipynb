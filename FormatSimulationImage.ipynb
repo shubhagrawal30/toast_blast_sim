{
 "cells": [
  {
   "cell_type": "code",
   "execution_count": null,
   "id": "f49da2bc",
   "metadata": {},
   "outputs": [],
   "source": [
    "from astropy.io import fits\n",
    "from astropy.wcs import WCS\n",
    "from astropy import units as u, constants as c\n",
    "import numpy as np\n",
    "import matplotlib.pyplot as plt"
   ]
  },
  {
   "cell_type": "code",
   "execution_count": null,
   "id": "02e6a161",
   "metadata": {},
   "outputs": [],
   "source": [
    "hdu = fits.open('stokes_850_C=100_n=10_highRes.fits')"
   ]
  },
  {
   "cell_type": "code",
   "execution_count": null,
   "id": "a973a8ad",
   "metadata": {},
   "outputs": [],
   "source": [
    "hdu[0].header"
   ]
  },
  {
   "cell_type": "code",
   "execution_count": null,
   "id": "f40b6224",
   "metadata": {},
   "outputs": [],
   "source": [
    "naxis1 = hdu[0].header['NAXIS1']\n",
    "naxis2 = hdu[0].header['NAXIS2']\n",
    "data = hdu[0].data"
   ]
  },
  {
   "cell_type": "code",
   "execution_count": null,
   "id": "8de808c6",
   "metadata": {},
   "outputs": [],
   "source": [
    "print(data.shape)\n",
    "print(naxis1)"
   ]
  },
  {
   "cell_type": "code",
   "execution_count": null,
   "id": "8b134aeb",
   "metadata": {},
   "outputs": [],
   "source": [
    "plt.imshow(data[5,0,:,:])"
   ]
  },
  {
   "cell_type": "code",
   "execution_count": null,
   "id": "e0e81929",
   "metadata": {},
   "outputs": [],
   "source": [
    "stokes = ['I', 'Q', 'U', 'V']"
   ]
  },
  {
   "cell_type": "code",
   "execution_count": null,
   "id": "9a44335d",
   "metadata": {},
   "outputs": [],
   "source": [
    "FoV = 4*u.deg\n",
    "dx = (FoV/naxis1).to(u.deg)\n",
    "print(dx.to(u.arcsec))\n",
    "dx = dx.value\n",
    "print(dx)"
   ]
  },
  {
   "cell_type": "code",
   "execution_count": null,
   "id": "5d4d45f5",
   "metadata": {},
   "outputs": [],
   "source": [
    "# Weirdly, this just does not work\n",
    "#wcs = WCS(naxis=2)\n",
    "#wcs.crpix = [naxis1/2, naxis2/2]\n",
    "#wcs.cdelt = np.array([-dx, dx])\n",
    "#wcs.crval = [180, -9]\n",
    "#wcs.ctype = ['RA---TAN', 'DEC--TAN']\n",
    "#header = wcs.to_header()"
   ]
  },
  {
   "cell_type": "code",
   "execution_count": null,
   "id": "c80f5028",
   "metadata": {},
   "outputs": [],
   "source": [
    "for i, s in enumerate(stokes):\n",
    "\n",
    "    hdu_new = fits.PrimaryHDU(data[i,0,:,:])\n",
    "\n",
    "    hdu_new.header['WCSAXES'] = 2\n",
    "    hdu_new.header['CRPIX1'] = naxis1/2\n",
    "    hdu_new.header['CRPIX2'] = naxis2/2\n",
    "    hdu_new.header['CDELT1'] = -dx\n",
    "    hdu_new.header['CDELT2'] = dx\n",
    "    hdu_new.header['CUNIT1'] = 'deg'\n",
    "    hdu_new.header['CUNIT2'] = 'deg'\n",
    "    hdu_new.header['CTYPE1'] = 'RA---TAN'\n",
    "    hdu_new.header['CTYPE2'] = 'DEC--TAN'\n",
    "    hdu_new.header['CRVAL1'] = 180.\n",
    "    hdu_new.header['CRVAL2'] = -9.\n",
    "    hdu_new.header['LONPOLE'] = 0.0\n",
    "    hdu_new.header['LATPOLE'] = 90.0\n",
    "    hdu_new.header['RADESYS'] = 'ICRS'\n",
    "    \n",
    "    hdu_new.writeto('BLASTObsSim_'+s+'.fits', overwrite=True)"
   ]
  },
  {
   "cell_type": "code",
   "execution_count": null,
   "id": "9b5c0434",
   "metadata": {},
   "outputs": [],
   "source": [
    "hdu_new.header"
   ]
  }
 ],
 "metadata": {
  "kernelspec": {
   "display_name": "Python 3 (ipykernel)",
   "language": "python",
   "name": "python3"
  },
  "language_info": {
   "codemirror_mode": {
    "name": "ipython",
    "version": 3
   },
   "file_extension": ".py",
   "mimetype": "text/x-python",
   "name": "python",
   "nbconvert_exporter": "python",
   "pygments_lexer": "ipython3",
   "version": "3.9.7"
  }
 },
 "nbformat": 4,
 "nbformat_minor": 5
}
